{
 "cells": [
  {
   "cell_type": "markdown",
   "metadata": {},
   "source": [
    "导入相关库，其中TFNet为darkflow文件中的。"
   ]
  },
  {
   "cell_type": "code",
   "execution_count": 12,
   "metadata": {},
   "outputs": [],
   "source": [
    "from darkflow.net.build import TFNet \n",
    "import cv2 "
   ]
  },
  {
   "cell_type": "markdown",
   "metadata": {},
   "source": [
    "model为模型的配置文件，load为模型的参数文件，需要自己训练更改。cfg与bin都在yolo_bicycle文件目录下。"
   ]
  },
  {
   "cell_type": "markdown",
   "metadata": {},
   "source": [
    "输入为原图片（并不是地址），在原图片上标注预测物体的位置。"
   ]
  },
  {
   "cell_type": "code",
   "execution_count": 13,
   "metadata": {},
   "outputs": [],
   "source": [
    "class tfnet():\n",
    "    options = {\"pbLoad\": \"built_graph/yolo-2c.pb\", \"metaLoad\": \"built_graph/yolo-2c.meta\", \"threshold\": 0.1}\n",
    "\n",
    "    def __init__(self, options = options):\n",
    "        self.tfnet = TFNet(options)\n",
    "        self.results = None\n",
    "        \n",
    "    def result_transform(self):\n",
    "        bboxes = []\n",
    "        for result in self.results:\n",
    "            bbox = (result['topleft']['x'], result['topleft']['y'], \n",
    "                    result['bottomright']['x'] - result['topleft']['x'], \n",
    "                    result['bottomright']['y'] - result['topleft']['y'])\n",
    "            bboxes.append(bbox)\n",
    "        return bboxes\n",
    "\n",
    "    def object_detection(self, original_img):\n",
    "        original_img = cv2.cvtColor(original_img, cv2.COLOR_BGR2RGB)\n",
    "        self.results = self.tfnet.return_predict(original_img)\n",
    "        return self.result_transform()\n",
    "        "
   ]
  },
  {
   "cell_type": "code",
   "execution_count": 14,
   "metadata": {},
   "outputs": [
    {
     "name": "stdout",
     "output_type": "stream",
     "text": [
      "\n",
      "Loading from .pb and .meta\n",
      "Running entirely on CPU\n"
     ]
    }
   ],
   "source": [
    "tfnet = tfnet()"
   ]
  },
  {
   "cell_type": "code",
   "execution_count": 15,
   "metadata": {
    "scrolled": true
   },
   "outputs": [
    {
     "name": "stdout",
     "output_type": "stream",
     "text": [
      "[(167, 182, 127, 229), (141, 284, 178, 149)]\n"
     ]
    }
   ],
   "source": [
    "video = cv2.VideoCapture(\"videos/riding.mp4\")\n",
    "_, frame = video.read()\n",
    "bboxes = tfnet.object_detection(frame)\n",
    "print(bboxes)"
   ]
  },
  {
   "cell_type": "code",
   "execution_count": null,
   "metadata": {},
   "outputs": [],
   "source": []
  }
 ],
 "metadata": {
  "kernelspec": {
   "display_name": "Python 3",
   "language": "python",
   "name": "python3"
  },
  "language_info": {
   "codemirror_mode": {
    "name": "ipython",
    "version": 3
   },
   "file_extension": ".py",
   "mimetype": "text/x-python",
   "name": "python",
   "nbconvert_exporter": "python",
   "pygments_lexer": "ipython3",
   "version": "3.6.6"
  }
 },
 "nbformat": 4,
 "nbformat_minor": 2
}
