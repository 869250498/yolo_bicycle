{
 "cells": [
  {
   "cell_type": "code",
   "execution_count": 8,
   "metadata": {},
   "outputs": [],
   "source": [
    "import cv2\n",
    "import sys\n",
    "from object_detection import object_detection\n",
    "from random import randint"
   ]
  },
  {
   "cell_type": "markdown",
   "metadata": {},
   "source": [
    "object tracking algorithm, for more details, refer to [this](https://www.learnopencv.com/object-tracking-using-opencv-cpp-python/#opencv-tracking-api), for mutil object tracking, refer to [this](https://www.learnopencv.com/multitracker-multiple-object-tracking-using-opencv-c-python/)"
   ]
  },
  {
   "cell_type": "code",
   "execution_count": 15,
   "metadata": {},
   "outputs": [],
   "source": [
    "def object_tracking(filename=\"videos/riding.mp4\"):\n",
    "    tracker_types = ['BOOSTING', 'MIL','KCF', 'TLD', 'MEDIANFLOW', 'GOTURN', 'MOSSE', 'CSRT']\n",
    "    \n",
    "    # Read video\n",
    "    video = cv2.VideoCapture(filename)\n",
    "    \n",
    "    # establish output file, the same as video.\n",
    "    width = video.get(cv2.CAP_PROP_FRAME_WIDTH)   \n",
    "    height = video.get(cv2.CAP_PROP_FRAME_HEIGHT) \n",
    "    fourcc = cv2.VideoWriter_fourcc(*'DIVX')\n",
    "    out = cv2.VideoWriter('./output.avi',fourcc, 20.0, (int(width), int(height)))\n",
    " \n",
    "    # Exit if video not opened.\n",
    "    if not video.isOpened():\n",
    "        print(\"Could not open video\")\n",
    "        sys.exit()\n",
    " \n",
    "    # Read first frame.\n",
    "    ok, frame = video.read()\n",
    "    if not ok:\n",
    "        print('Cannot read video file')\n",
    "        sys.exit()\n",
    "     \n",
    "    # Define an initial bounding box\n",
    " \n",
    "    # Uncomment the line below to select a different bounding box\n",
    "    bboxes = object_detection(frame)\n",
    " \n",
    "    # Initialize mutiltracker with first frame and bounding box\n",
    "    trackerType = 'CSRT'\n",
    "    multiTracker = cv2.MultiTracker_create()\n",
    "    colors = []\n",
    "    for bbox in bboxes:\n",
    "        multiTracker.add(cv2.TrackerCSRT_create(), frame, bbox)\n",
    "        colors.append((randint(0, 255), randint(0, 255), randint(0, 255)))\n",
    "    \n",
    "    ret = True\n",
    "    while ret:\n",
    "        # Read a new frame\n",
    "        ret, frame = video.read()\n",
    "        if not ret:\n",
    "            break\n",
    "         \n",
    "        # Start timer\n",
    "        timer = cv2.getTickCount()\n",
    " \n",
    "        # Update tracker\n",
    "        success, bboxes = multiTracker.update(frame)\n",
    " \n",
    "        # Calculate Frames per second (FPS)\n",
    "        fps = cv2.getTickFrequency() / (cv2.getTickCount() - timer)\n",
    " \n",
    "        # Draw bounding box\n",
    "        if success:\n",
    "            # Tracking success\n",
    "            for i, newbox in enumerate(bboxes):\n",
    "                p1 = (int(newbox[0]), int(newbox[1]))\n",
    "                p2 = (int(newbox[0] + newbox[2]), int(newbox[1] + newbox[3]))\n",
    "                new_frame = cv2.rectangle(frame, p1, p2, colors[i], 2, 1)\n",
    "        else :\n",
    "            # Tracking failure\n",
    "            cv2.putText(new_frame, \"Tracking failure detected\", (100,80), cv2.FONT_HERSHEY_SIMPLEX, 0.75,(0,0,255),2)\n",
    " \n",
    "        # Display tracker type on frame\n",
    "        cv2.putText(new_frame, trackerType + \" Tracker\", (100,20), cv2.FONT_HERSHEY_SIMPLEX, 0.75, (50,170,50),2);\n",
    "     \n",
    "        # Display FPS on frame\n",
    "        cv2.putText(new_frame, \"FPS : \" + str(int(fps)), (100,50), cv2.FONT_HERSHEY_SIMPLEX, 0.75, (50,170,50), 2);\n",
    " \n",
    "        # Display result\n",
    "        out.write(new_frame)\n",
    "        cv2.imshow(\"Tracking\", new_frame)\n",
    "        \n",
    "    \"\"\"out.release()\n",
    "    video.release()\n",
    "    cv2.destroyAllWindows()\"\"\""
   ]
  },
  {
   "cell_type": "code",
   "execution_count": 16,
   "metadata": {},
   "outputs": [
    {
     "name": "stdout",
     "output_type": "stream",
     "text": [
      "\n",
      "Loading from .pb and .meta\n",
      "Running entirely on CPU\n"
     ]
    }
   ],
   "source": [
    "object_tracking(filename='videos/riding2.mp4')"
   ]
  },
  {
   "cell_type": "code",
   "execution_count": null,
   "metadata": {},
   "outputs": [],
   "source": []
  }
 ],
 "metadata": {
  "kernelspec": {
   "display_name": "Python 3",
   "language": "python",
   "name": "python3"
  },
  "language_info": {
   "codemirror_mode": {
    "name": "ipython",
    "version": 3
   },
   "file_extension": ".py",
   "mimetype": "text/x-python",
   "name": "python",
   "nbconvert_exporter": "python",
   "pygments_lexer": "ipython3",
   "version": "3.6.6"
  }
 },
 "nbformat": 4,
 "nbformat_minor": 2
}
