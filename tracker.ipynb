{
 "cells": [
  {
   "cell_type": "code",
   "execution_count": 1,
   "metadata": {},
   "outputs": [],
   "source": [
    "import cv2\n",
    "import sys\n",
    "from object_detection import tfnet\n",
    "from random import randint"
   ]
  },
  {
   "cell_type": "markdown",
   "metadata": {},
   "source": [
    "object tracking algorithm, for more details, refer to [this](https://www.learnopencv.com/object-tracking-using-opencv-cpp-python/#opencv-tracking-api), for mutil object tracking, refer to [this](https://www.learnopencv.com/multitracker-multiple-object-tracking-using-opencv-c-python/)"
   ]
  },
  {
   "cell_type": "code",
   "execution_count": 11,
   "metadata": {},
   "outputs": [],
   "source": [
    "class MultiTracker():\n",
    "    \"\"\"the tracker type depend on your choice\"\"\"\n",
    "    def __init__(self, type):\n",
    "        self.net = tfnet()\n",
    "        self.colors = []\n",
    "        self.trackerType = type\n",
    "     \n",
    "    \n",
    "    \"\"\"Create a tracker based on tracker name\"\"\"\n",
    "    def createTrackerByName(self):\n",
    "        trackerType = self.trackerType\n",
    "        trackerTypes = ['BOOSTING', 'MIL','KCF', 'TLD', 'MEDIANFLOW', 'MOSSE', 'CSRT']\n",
    "        if trackerType == trackerTypes[0]:\n",
    "            tracker = cv2.TrackerBoosting_create()\n",
    "        elif trackerType == trackerTypes[1]: \n",
    "            tracker = cv2.TrackerMIL_create()\n",
    "        elif trackerType == trackerTypes[2]:\n",
    "            tracker = cv2.TrackerKCF_create()\n",
    "        elif trackerType == trackerTypes[3]:\n",
    "            tracker = cv2.TrackerTLD_create()\n",
    "        elif trackerType == trackerTypes[4]:\n",
    "            tracker = cv2.TrackerMedianFlow_create()\n",
    "        elif trackerType == trackerTypes[5]:\n",
    "            tracker = cv2.TrackerMOSSE_create()\n",
    "        elif trackerType == trackerTypes[6]:\n",
    "            tracker = cv2.TrackerCSRT_create()\n",
    "        else:\n",
    "            tracker = None\n",
    "            print('Incorrect tracker name')\n",
    "            print('Available trackers are:')\n",
    "            for t in trackerTypes:\n",
    "              print(t)\n",
    "\n",
    "        return tracker  \n",
    "    \n",
    "    \n",
    "    def create_MutilTracker(self, frame):\n",
    "        # obtain box through yolo\n",
    "        bboxes = self.net.object_detection(frame)\n",
    "        \n",
    "        self.colors = []\n",
    "        # Initialize mutiltracker with first frame and bounding box\n",
    "        multiTracker = cv2.MultiTracker_create()\n",
    "        for bbox in bboxes:\n",
    "            multiTracker.add(self.createTrackerByName(), frame, bbox)\n",
    "            self.colors.append((randint(0, 255), randint(0, 255), randint(0, 255)))\n",
    "        return multiTracker\n",
    "    \n",
    "    \n",
    "    \"\"\"object detection every num frame\"\"\"\n",
    "    def tracking(self, num=30, filename=\"videos/riding.mp4\"):\n",
    "        # Read video\n",
    "        video = cv2.VideoCapture(filename)\n",
    "\n",
    "        # establish output file, the same as video.\n",
    "        width = video.get(cv2.CAP_PROP_FRAME_WIDTH)   \n",
    "        height = video.get(cv2.CAP_PROP_FRAME_HEIGHT) \n",
    "        fourcc = cv2.VideoWriter_fourcc(*'DIVX')\n",
    "        out = cv2.VideoWriter('./'+self.trackerType+'.avi',fourcc, 20.0, (int(width), int(height)))\n",
    "\n",
    "        # Exit if video not opened.\n",
    "        if not video.isOpened():\n",
    "            print(\"Could not open video\")\n",
    "            sys.exit()\n",
    "\n",
    "        ret = True\n",
    "        num_frame = -1\n",
    "        while ret:\n",
    "            # Read a new frame\n",
    "            ret, frame = video.read()\n",
    "            if not ret:\n",
    "                break\n",
    "\n",
    "            # inintinal multitracker\n",
    "            num_frame += 1\n",
    "            if num_frame % num == 0:\n",
    "                multitracker = self.create_MutilTracker(frame)\n",
    "                num_frame = 0\n",
    "                continue\n",
    "\n",
    "\n",
    "            # Start timer\n",
    "            timer = cv2.getTickCount()\n",
    "\n",
    "            # Update tracker\n",
    "            success, bboxes = multitracker.update(frame)\n",
    "\n",
    "            # Calculate Frames per second (FPS)\n",
    "            fps = cv2.getTickFrequency() / (cv2.getTickCount() - timer)\n",
    "\n",
    "            # Draw bounding box\n",
    "            if success:\n",
    "                # Tracking success\n",
    "                for i, newbox in enumerate(bboxes):\n",
    "                    p1 = (int(newbox[0]), int(newbox[1]))\n",
    "                    p2 = (int(newbox[0] + newbox[2]), int(newbox[1] + newbox[3]))\n",
    "                    new_frame = cv2.rectangle(frame, p1, p2, self.colors[i], 2, 1)\n",
    "            else :\n",
    "                # Tracking failure\n",
    "                new_frame = cv2.putText(frame, \"Tracking failure detected\", (100,80), cv2.FONT_HERSHEY_SIMPLEX, 0.75,(0,0,255),2)\n",
    "\n",
    "            # Display tracker type on frame\n",
    "            cv2.putText(new_frame, self.trackerType + \" Tracker\", (100,20), cv2.FONT_HERSHEY_SIMPLEX, 0.75, (50,170,50),2);\n",
    "\n",
    "            # Display FPS on frame\n",
    "            cv2.putText(new_frame, \"FPS : \" + str(int(fps)), (100,50), cv2.FONT_HERSHEY_SIMPLEX, 0.75, (50,170,50), 2);\n",
    "\n",
    "            # Display result\n",
    "            cv2.namedWindow(\"Video\") \n",
    "            out.write(new_frame)\n",
    "            cv2.imshow(\"Tracking\", new_frame)\n",
    "            k = cv2.waitKey(1) & 0xff\n",
    "            if k == 27 : \n",
    "                break\n",
    "\n",
    "        out.release()\n",
    "        video.release()\n",
    "        cv2.destroyAllWindows()"
   ]
  },
  {
   "cell_type": "code",
   "execution_count": 12,
   "metadata": {},
   "outputs": [
    {
     "name": "stdout",
     "output_type": "stream",
     "text": [
      "\n",
      "Loading from .pb and .meta\n",
      "Running entirely on CPU\n"
     ]
    }
   ],
   "source": [
    "object_tracker = MultiTracker('MOSSE')"
   ]
  },
  {
   "cell_type": "code",
   "execution_count": 14,
   "metadata": {},
   "outputs": [],
   "source": [
    "object_tracker.tracking(num=100)"
   ]
  },
  {
   "cell_type": "code",
   "execution_count": null,
   "metadata": {},
   "outputs": [],
   "source": []
  }
 ],
 "metadata": {
  "kernelspec": {
   "display_name": "Python 3",
   "language": "python",
   "name": "python3"
  },
  "language_info": {
   "codemirror_mode": {
    "name": "ipython",
    "version": 3
   },
   "file_extension": ".py",
   "mimetype": "text/x-python",
   "name": "python",
   "nbconvert_exporter": "python",
   "pygments_lexer": "ipython3",
   "version": "3.6.6"
  }
 },
 "nbformat": 4,
 "nbformat_minor": 2
}
