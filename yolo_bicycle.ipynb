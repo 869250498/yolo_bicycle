{
 "cells": [
  {
   "cell_type": "markdown",
   "metadata": {},
   "source": [
    "导入相关库，其中TFNet为darkflow文件中的。"
   ]
  },
  {
   "cell_type": "code",
   "execution_count": 1,
   "metadata": {},
   "outputs": [],
   "source": [
    "import matplotlib.pyplot as plt \n",
    "import numpy as np \n",
    "from darkflow.net.build import TFNet \n",
    "import cv2 \n",
    "import pprint as pp"
   ]
  },
  {
   "cell_type": "markdown",
   "metadata": {},
   "source": [
    "model为模型的配置文件，load为模型的参数文件，需要自己训练更改。cfg与bin都在yolo_bicycle文件目录下。"
   ]
  },
  {
   "cell_type": "markdown",
   "metadata": {},
   "source": [
    "输入为原图片（并不是地址），在原图片上标注预测物体的位置。"
   ]
  },
  {
   "cell_type": "code",
   "execution_count": 3,
   "metadata": {},
   "outputs": [],
   "source": [
    "def boxing(original_img, predictions):\n",
    "        newImage = np.copy(original_img)\n",
    "\n",
    "        for result in predictions:\n",
    "            top_x = result['topleft']['x']\n",
    "            top_y = result['topleft']['y']\n",
    "            \n",
    "            btm_x = result['bottomright']['x']\n",
    "            btm_y = result['bottomright']['y']\n",
    "\n",
    "            confidence = result['confidence']\n",
    "            label = result['label'] + \" \" + str(round(confidence, 3))\n",
    "\n",
    "            if confidence > 0.3:\n",
    "                newImage = cv2.rectangle(newImage, (top_x, top_y), (btm_x, btm_y), (255,0,0), 3)\n",
    "                newImage = cv2.putText(newImage, label, (top_x, top_y-5), cv2.FONT_HERSHEY_COMPLEX_SMALL , 0.8, (0, 230, 0), 1, cv2.LINE_AA)         \n",
    "        return newImage"
   ]
  },
  {
   "cell_type": "code",
   "execution_count": null,
   "metadata": {},
   "outputs": [],
   "source": [
    "def result_person(results):\n",
    "    for result in results:\n",
    "        if result['label'] == 'person' and result['confidence'] > 0.5:\n",
    "            bbox = (result['topleft']['x'], result['topleft']['y'], \n",
    "                    result['bottomright']['x'] - result['topleft']['x'], \n",
    "                    result['bottomright']['y'] - result['topleft']['y'])\n",
    "            return bbox"
   ]
  },
  {
   "cell_type": "code",
   "execution_count": 12,
   "metadata": {
    "scrolled": true
   },
   "outputs": [],
   "source": [
    "def object_detection(original_img):\n",
    "    options = {\"model\": \"cfg/yolo.cfg\", \"load\": \"bin/yolo.weights\", \"threshold\": 0.1}\n",
    "    tfnet = TFNet(options)\n",
    "    original_img = cv2.cvtColor(original_img, cv2.COLOR_BGR2RGB)\n",
    "    results = tfnet.return_predict(original_img)\n",
    "    return result_person(results)\n",
    "\n",
    "    \"\"\"fig, ax = plt.subplots(figsize=(10, 10))\n",
    "    ax.imshow(original_img)\n",
    "\n",
    "    fig, ax = plt.subplots(figsize=(20, 10))\n",
    "    ax.imshow(boxing(original_img, results))\"\"\""
   ]
  }
 ],
 "metadata": {
  "kernelspec": {
   "display_name": "Python 3",
   "language": "python",
   "name": "python3"
  },
  "language_info": {
   "codemirror_mode": {
    "name": "ipython",
    "version": 3
   },
   "file_extension": ".py",
   "mimetype": "text/x-python",
   "name": "python",
   "nbconvert_exporter": "python",
   "pygments_lexer": "ipython3",
   "version": "3.6.6"
  }
 },
 "nbformat": 4,
 "nbformat_minor": 2
}
